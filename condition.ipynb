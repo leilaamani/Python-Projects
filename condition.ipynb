{
  "cells": [
    {
      "cell_type": "markdown",
      "metadata": {
        "id": "view-in-github",
        "colab_type": "text"
      },
      "source": [
        "<a href=\"https://colab.research.google.com/github/leilaamani/Python-Projects/blob/main/condition.ipynb\" target=\"_parent\"><img src=\"https://colab.research.google.com/assets/colab-badge.svg\" alt=\"Open In Colab\"/></a>"
      ]
    },
    {
      "cell_type": "code",
      "source": [
        "# condition\n",
        "# session4_exercise1\n",
        "num1 , num2 = map(int , input('Please enter two numbers: ').split())\n",
        "sign = input('Plese enter your operator:')\n",
        "if sign =='+':\n",
        "  print(f'{num1} {sign} {num2} =' , num1+num2)\n",
        "elif sign == '-':\n",
        "  print(f'{num1} {sign} {num2} =' , num1-num2)\n",
        "elif sign == '*':\n",
        "  print(f'{num1} {sign} {num2} =' , num1*num2)\n",
        "elif sign == '/':\n",
        "  print(f'{num1} {sign} {num2} =' , num1/num2)\n",
        "elif sign == '%':\n",
        "  print(f'{num1} {sign} {num2} =' , num1*num2)\n",
        "elif sign == '//':\n",
        "  print(f'{num1} {sign} {num2} =' , num1//num2)\n",
        "else:\n",
        "  print('You enter invalid operators please try again')"
      ],
      "metadata": {
        "colab": {
          "base_uri": "https://localhost:8080/"
        },
        "id": "VWPLoCvjxDbZ",
        "outputId": "779702d2-b74a-4006-dee3-dc32d00ba4d7"
      },
      "execution_count": 10,
      "outputs": [
        {
          "output_type": "stream",
          "name": "stdout",
          "text": [
            "Please enter two numbers: 33 66\n",
            "Plese enter your operator:@\n",
            "You enter invalid operators please try again\n"
          ]
        }
      ]
    },
    {
      "cell_type": "code",
      "source": [
        "# session4_exercise2\n",
        "com_num = int(input('please enter your comparative number:'))\n",
        "num1 , num2, num3, num4, num5 = map(int, input('enter five numbers to compaire:').split())\n",
        "countUp = 0\n",
        "countDown = 0\n",
        "if num1 <= com_num :\n",
        "  countDown +=1\n",
        "else:\n",
        "    countUp +=1\n",
        "if num2 <= com_num :\n",
        "  countDown +=1\n",
        "else:\n",
        "    countUp +=1\n",
        "if num3 <= com_num :\n",
        "  countDown +=1\n",
        "else:\n",
        "    countUp +=1\n",
        "if num4 <= com_num :\n",
        "  countDown +=1\n",
        "else:\n",
        "    countUp +=1\n",
        "if num5 <= com_num :\n",
        "  countDown +=1\n",
        "else:\n",
        "    countUp +=1\n",
        "print(f'{countUp} number is upper than {com_num} and {countDown} numbers is less than {com_num}')"
      ],
      "metadata": {
        "colab": {
          "base_uri": "https://localhost:8080/"
        },
        "id": "VTiEZAI91U9Y",
        "outputId": "4cc07845-5d15-4da1-cb79-b23164e4cdaa"
      },
      "execution_count": 18,
      "outputs": [
        {
          "output_type": "stream",
          "name": "stdout",
          "text": [
            "please enter your comparative number:22\n",
            "enter five numbers to compaire:34 55 21 12 11\n",
            "2 number is upper than 22 and 3 numbers is less than 22\n"
          ]
        }
      ]
    },
    {
      "cell_type": "code",
      "source": [
        "# other way for exercise2\n",
        "com_num = int(input('please enter your comparative number:'))\n",
        "num1 , num2, num3, num4, num5 = map(int, input('enter five numbers to compaire:').split())\n",
        "count = 0\n",
        "count += num1 <= com_num\n",
        "count += num2 <= com_num\n",
        "count += num3 <= com_num\n",
        "count += num4 <= com_num\n",
        "count += num5 <= com_num\n",
        "print(f'{5-count} number is upper than {com_num} and {count} numbers is less than {com_num}')"
      ],
      "metadata": {
        "id": "8XjFqsggLViL",
        "outputId": "5ffa3631-c329-477b-8c80-3a2d5c07a2d8",
        "colab": {
          "base_uri": "https://localhost:8080/"
        }
      },
      "execution_count": 17,
      "outputs": [
        {
          "output_type": "stream",
          "name": "stdout",
          "text": [
            "please enter your comparative number:21\n",
            "enter five numbers to compaire:23 12 34 90 20\n",
            "3 number is upper than 21 and 2 numbers is less than 21\n"
          ]
        }
      ]
    }
  ],
  "metadata": {
    "colab": {
      "name": "Welcome To Colaboratory",
      "toc_visible": true,
      "provenance": [],
      "include_colab_link": true
    },
    "kernelspec": {
      "display_name": "Python 3",
      "name": "python3"
    }
  },
  "nbformat": 4,
  "nbformat_minor": 0
}
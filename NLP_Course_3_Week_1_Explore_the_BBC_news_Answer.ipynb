{
  "nbformat": 4,
  "nbformat_minor": 0,
  "metadata": {
    "colab": {
      "name": "NLP/Course 3 - Week 1  Explore the BBC news_Answer.ipynb",
      "provenance": [],
      "include_colab_link": true
    },
    "kernelspec": {
      "name": "python3",
      "display_name": "Python 3"
    }
  },
  "cells": [
    {
      "cell_type": "markdown",
      "metadata": {
        "id": "view-in-github",
        "colab_type": "text"
      },
      "source": [
        "<a href=\"https://colab.research.google.com/github/leilaamani/Python-Projects/blob/main/NLP_Course_3_Week_1_Explore_the_BBC_news_Answer.ipynb\" target=\"_parent\"><img src=\"https://colab.research.google.com/assets/colab-badge.svg\" alt=\"Open In Colab\"/></a>"
      ]
    },
    {
      "cell_type": "code",
      "source": [
        "# get x and read 5 numbers from inpute then specify how many numbers are less than x and how meny numbers are bigger than it.\n",
        "# # First approche\n",
        "# print(\"----------------------------------\")\n",
        "# x= int(input(\"please enter a number:\"))\n",
        "# number1= int(input(\"please enter number1:\"))\n",
        "# number2= int(input(\"please enter number2:\"))\n",
        "# number3= int(input(\"please enter number3:\"))\n",
        "# number4= int(input(\"please enter number4:\"))\n",
        "# number5= int(input(\"please enter number5:\"))\n",
        "# count= 0\n",
        "# if number1>= x:\n",
        "#     count +=1\n",
        "# if number2>= x:\n",
        "#     count +=1\n",
        "# if number3>=x:\n",
        "#     count +=1\n",
        "# if number4>=x:\n",
        "#     count +=1\n",
        "# if number5 >=x:\n",
        "#     count +=1\n",
        "# print(f\"{count} numbers are bigger than {x} and {5-count} numbers ara less than {x}\")\n",
        "# print(\"Thank you for contribution\")\n",
        "\n",
        "# Second approche\n",
        "print(\"----------------------------------\")\n",
        "x, number1, number2, number3, number4, number5= map(int, input(\"please enter six numbers as x and other numbers:\").split())\n",
        "count=0\n",
        "count+= number1>=x\n",
        "count+= number2>=x\n",
        "count+= number3>=x\n",
        "count+= number4>=x\n",
        "count+= number5>=x\n",
        "print(f\"{count} numbers are bigger than {x} and {5-count} numbers ara less than {x}\")\n",
        "print(\"Thank you for contribution\")"
      ],
      "metadata": {
        "colab": {
          "base_uri": "https://localhost:8080/"
        },
        "id": "dZzVGw4fVVma",
        "outputId": "d5749b87-1238-49ec-c508-d557f75e9655"
      },
      "execution_count": 4,
      "outputs": [
        {
          "output_type": "stream",
          "name": "stdout",
          "text": [
            "----------------------------------\n",
            "please enter six numbers as x and other numbers:25 15 13 66 78 16\n",
            "2 numbers are bigger than 25 and 3 numbers ara less than 25\n",
            "Thank you for contribution\n"
          ]
        }
      ]
    },
    {
      "cell_type": "code",
      "source": [
        "# maximum of five numbers\n",
        "number= int(input(\"please enter your number:\"))\n",
        "maximum= number\n",
        "for num in range(2,6):\n",
        "    number = int(input(\"please enter your number:\"))\n",
        "    if maximum<=number:\n",
        "        maximum= number\n",
        "print(\"maximum is :\", maximum)  "
      ],
      "metadata": {
        "id": "giCnS-tWjXwy",
        "outputId": "da5396a1-bf0f-4cb4-9043-bceafe459b68",
        "colab": {
          "base_uri": "https://localhost:8080/"
        }
      },
      "execution_count": 5,
      "outputs": [
        {
          "output_type": "stream",
          "name": "stdout",
          "text": [
            "please enter your number:65\n",
            "please enter your number:32\n",
            "please enter your number:66\n",
            "please enter your number:96\n",
            "please enter your number:22\n",
            "maximum is : 96\n"
          ]
        }
      ]
    },
    {
      "cell_type": "code",
      "source": [
        "for i in range(1, 11):\n",
        "  print(i) \n",
        "print()\n",
        "for i in range (1, 11):\n",
        "  print(i,end=' ')\n"
      ],
      "metadata": {
        "id": "glX5X5XkjiTG",
        "outputId": "f241a0f7-f6fa-4bca-a15a-5c3bd2648141",
        "colab": {
          "base_uri": "https://localhost:8080/"
        }
      },
      "execution_count": 13,
      "outputs": [
        {
          "output_type": "stream",
          "name": "stdout",
          "text": [
            "1\n",
            "2\n",
            "3\n",
            "4\n",
            "5\n",
            "6\n",
            "7\n",
            "8\n",
            "9\n",
            "10\n",
            "\n",
            "1 2 3 4 5 6 7 8 9 10 "
          ]
        }
      ]
    },
    {
      "cell_type": "code",
      "source": [
        "# get two numbers and print the numbers between these\n",
        "first, end=map(int, input(\"please enter two numbers as first and end:\").split())\n",
        "for num in range(first,end+1):\n",
        "    print(num,end=',')"
      ],
      "metadata": {
        "id": "6kCPMnqclcMO",
        "outputId": "a8411d70-0926-4dd1-e207-d570fd129e47",
        "colab": {
          "base_uri": "https://localhost:8080/"
        }
      },
      "execution_count": 14,
      "outputs": [
        {
          "output_type": "stream",
          "name": "stdout",
          "text": [
            "please enter two numbers as first and end:12 25\n",
            "12,13,14,15,16,17,18,19,20,21,22,23,24,25,"
          ]
        }
      ]
    },
    {
      "cell_type": "code",
      "source": [],
      "metadata": {
        "id": "nNJWa6XvlHdf"
      },
      "execution_count": null,
      "outputs": []
    }
  ]
}
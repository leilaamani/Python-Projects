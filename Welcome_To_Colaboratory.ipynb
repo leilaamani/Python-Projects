{
  "cells": [
    {
      "cell_type": "markdown",
      "metadata": {
        "id": "view-in-github",
        "colab_type": "text"
      },
      "source": [
        "<a href=\"https://colab.research.google.com/github/leilaamani/Python-Projects/blob/main/Welcome_To_Colaboratory.ipynb\" target=\"_parent\"><img src=\"https://colab.research.google.com/assets/colab-badge.svg\" alt=\"Open In Colab\"/></a>"
      ]
    },
    {
      "cell_type": "code",
      "source": [
        "# condition\n",
        "# session4_exercise1\n",
        "num1 , num2 = map(int , input('Please enter two numbers: ').split())\n",
        "sign = input('Plese enter your operator:')\n",
        "if sign =='+':\n",
        "  print(f'{num1} {sign} {num2} =' , num1+num2)\n",
        "elif sign == '-':\n",
        "  print(f'{num1} {sign} {num2} =' , num1-num2)\n",
        "elif sign == '*':\n",
        "  print(f'{num1} {sign} {num2} =' , num1*num2)\n",
        "elif sign == '/':\n",
        "  print(f'{num1} {sign} {num2} =' , num1/num2)\n",
        "elif sign == '%':\n",
        "  print(f'{num1} {sign} {num2} =' , num1*num2)\n",
        "elif sign == '//':\n",
        "  print(f'{num1} {sign} {num2} =' , num1//num2)\n",
        "else:\n",
        "  print('You enter invalid operators please try again')"
      ],
      "metadata": {
        "id": "VWPLoCvjxDbZ",
        "outputId": "779702d2-b74a-4006-dee3-dc32d00ba4d7",
        "colab": {
          "base_uri": "https://localhost:8080/"
        }
      },
      "execution_count": 10,
      "outputs": [
        {
          "output_type": "stream",
          "name": "stdout",
          "text": [
            "Please enter two numbers: 33 66\n",
            "Plese enter your operator:@\n",
            "You enter invalid operators please try again\n"
          ]
        }
      ]
    },
    {
      "cell_type": "code",
      "source": [
        "# session4_exercise2\n",
        "com_num = int(input('please enter your comparative number:'))\n",
        "num1 , num2, num3, num4, num5 = map(int, input('enter five numbers to compaire:').split())\n",
        "countUp = 0\n",
        "countDown = 0\n",
        "if num1 <= com_num :\n",
        "  countDown +=1\n",
        "else:\n",
        "    countUp +=1\n",
        "if num2 <= com_num :\n",
        "  countDown +=1\n",
        "else:\n",
        "    countUp +=1\n",
        "if num3 <= com_num :\n",
        "  countDown +=1\n",
        "else:\n",
        "    countUp +=1\n",
        "if num4 <= com_num :\n",
        "  countDown +=1\n",
        "else:\n",
        "    countUp +=1\n",
        "if num5 <= com_num :\n",
        "  countDown +=1\n",
        "else:\n",
        "    countUp +=1\n",
        "print(f'{countUp} number is upper than {com_num} and {countDown} numbers is less than {com_num}')"
      ],
      "metadata": {
        "id": "VTiEZAI91U9Y",
        "outputId": "d12d0006-ded7-4144-f2ec-f286ba73fd6a",
        "colab": {
          "base_uri": "https://localhost:8080/"
        }
      },
      "execution_count": 14,
      "outputs": [
        {
          "output_type": "stream",
          "name": "stdout",
          "text": [
            "please enter your comparative number:23\n",
            "enter five numbers to compaire:12 34 13 20 99\n",
            "2number is upper than 23 and 3 numbers is less than 23\n"
          ]
        }
      ]
    }
  ],
  "metadata": {
    "colab": {
      "name": "Welcome To Colaboratory",
      "toc_visible": true,
      "provenance": [],
      "include_colab_link": true
    },
    "kernelspec": {
      "display_name": "Python 3",
      "name": "python3"
    }
  },
  "nbformat": 4,
  "nbformat_minor": 0
}